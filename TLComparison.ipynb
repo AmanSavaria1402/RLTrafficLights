{
 "cells": [
  {
   "cell_type": "code",
   "execution_count": 1,
   "id": "0bd0560a",
   "metadata": {},
   "outputs": [],
   "source": [
    "import pandas as pd\n",
    "import numpy as np\n",
    "import os\n",
    "import matplotlib.pyplot as plt\n",
    "import traci"
   ]
  },
  {
   "cell_type": "markdown",
   "id": "cc87645e",
   "metadata": {},
   "source": [
    "# Running the simulation using TRACI\n",
    "NOTE: These ones here are similar to NEMA phases, I need to check this again for split phasing since the AI works on split phasing.\n",
    "### 1. Actuated: Sequential Phases"
   ]
  },
  {
   "cell_type": "code",
   "execution_count": 3,
   "id": "a13401f7",
   "metadata": {},
   "outputs": [],
   "source": [
    "sumoCmd = ['sumo-gui', '-c', 'data/CompExp/SingleIntersectionActuated.sumocfg', '--log', 'logs/TLLogs/ActuatedSequentialPhases.yml', '--duration-log.statistics', 'true']"
   ]
  },
  {
   "cell_type": "code",
   "execution_count": 4,
   "id": "04fc6db8",
   "metadata": {},
   "outputs": [],
   "source": [
    "traci.start(sumoCmd)\n",
    "step = 0\n",
    "while step<3600:\n",
    "    traci.simulationStep()\n",
    "    step+=1\n",
    "traci.close()"
   ]
  },
  {
   "cell_type": "markdown",
   "id": "5d84cd1d",
   "metadata": {},
   "source": [
    "### 2. Actuated: Dynamic Phases"
   ]
  },
  {
   "cell_type": "code",
   "execution_count": 5,
   "id": "54aa1e00",
   "metadata": {},
   "outputs": [],
   "source": [
    "sumoCmd = ['sumo-gui', '-c', 'data/CompExp/SingleIntersectionActuatedDynamic.sumocfg', '--log', 'logs/TLLogs/ActuatedSequentialPhasesDynamic.yml', '--duration-log.statistics', 'true']"
   ]
  },
  {
   "cell_type": "code",
   "execution_count": 6,
   "id": "0e749d51",
   "metadata": {},
   "outputs": [],
   "source": [
    "traci.start(sumoCmd)\n",
    "step = 0\n",
    "while step<3600:\n",
    "    traci.simulationStep()\n",
    "    step+=1\n",
    "traci.close()"
   ]
  },
  {
   "cell_type": "markdown",
   "id": "0db8a655",
   "metadata": {},
   "source": [
    "### 3. Actuated: Sequential Phases || Split Phasing"
   ]
  },
  {
   "cell_type": "code",
   "execution_count": 5,
   "id": "0290c975",
   "metadata": {},
   "outputs": [],
   "source": [
    "sumoCmd = ['sumo-gui', '-c', 'data/CompExp/SingleIntersectionActuatedSF.sumocfg', '--log', 'logs/TLLogs/ActuatedSequentialPhasesSF.yml', '--duration-log.statistics', 'true']"
   ]
  },
  {
   "cell_type": "code",
   "execution_count": 6,
   "id": "ee5b9d8c",
   "metadata": {},
   "outputs": [],
   "source": [
    "traci.start(sumoCmd)\n",
    "step = 0\n",
    "while step<3600:\n",
    "    traci.simulationStep()\n",
    "    step+=1\n",
    "traci.close()"
   ]
  },
  {
   "cell_type": "markdown",
   "id": "74062e5b",
   "metadata": {},
   "source": [
    "### 4. Actuated: Dynamic Phases || Split Phasing"
   ]
  },
  {
   "cell_type": "code",
   "execution_count": 7,
   "id": "057b38d7",
   "metadata": {},
   "outputs": [],
   "source": [
    "sumoCmd = ['sumo-gui', '-c', 'data/CompExp/SingleIntersectionActuatedDynamicSF.sumocfg', '--log', 'logs/TLLogs/ActuatedSequentialPhasesDynamicSF.yml', '--duration-log.statistics', 'true']"
   ]
  },
  {
   "cell_type": "code",
   "execution_count": 8,
   "id": "f2feaaa8",
   "metadata": {},
   "outputs": [],
   "source": [
    "traci.start(sumoCmd)\n",
    "step = 0\n",
    "while step<3600:\n",
    "    traci.simulationStep()\n",
    "    step+=1\n",
    "traci.close()"
   ]
  },
  {
   "cell_type": "markdown",
   "id": "d30c8fd5",
   "metadata": {},
   "source": [
    "### 5. Actuated: NEMA"
   ]
  },
  {
   "cell_type": "code",
   "execution_count": 9,
   "id": "917edbf9",
   "metadata": {},
   "outputs": [],
   "source": [
    "sumoCmd = ['sumo-gui', '-c', 'data/CompExp/SingleIntersectionNEMA.sumocfg', '--log', 'logs/TLLogs/ActuatedNEMA.yml', '--duration-log.statistics', 'true']"
   ]
  },
  {
   "cell_type": "code",
   "execution_count": 10,
   "id": "55fa921f",
   "metadata": {},
   "outputs": [],
   "source": [
    "traci.start(sumoCmd)\n",
    "step = 0\n",
    "while step<3600:\n",
    "    traci.simulationStep()\n",
    "    step+=1\n",
    "traci.close()"
   ]
  },
  {
   "cell_type": "code",
   "execution_count": null,
   "id": "64c6e481",
   "metadata": {},
   "outputs": [],
   "source": []
  }
 ],
 "metadata": {
  "kernelspec": {
   "display_name": "sumo",
   "language": "python",
   "name": "python3"
  },
  "language_info": {
   "codemirror_mode": {
    "name": "ipython",
    "version": 3
   },
   "file_extension": ".py",
   "mimetype": "text/x-python",
   "name": "python",
   "nbconvert_exporter": "python",
   "pygments_lexer": "ipython3",
   "version": "3.9.16"
  }
 },
 "nbformat": 4,
 "nbformat_minor": 5
}
