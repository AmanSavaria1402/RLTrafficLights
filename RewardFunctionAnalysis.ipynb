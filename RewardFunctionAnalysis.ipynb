{
 "cells": [
  {
   "cell_type": "markdown",
   "id": "070b7321",
   "metadata": {},
   "source": [
    "# Looking at other options for the reward functions\n",
    "\n",
    "It seems that while the current pressure based reward seems to be working fine, maybe, doing some other things might make it perform even better. But changing reward function definition would also help, and most probably is the biggest factor for model performance and behavior. In this notebook, I will try to explore different reward function definitions, and also see how can they be calculated using TraCI for a specific step. That being said, the actual training for them will be done in separate colab ipynb notebooks.\n",
    "___\n",
    "\n",
    "## 1. Using wait time as a reward function:\n",
    "- Waiting time can be a good candidate for reward function as well.\n",
    "- It will be calculated as: $\\sum_{lane}- 1*WaitTime_l$.\n",
    "- However, I will need to see the behavior of it across various stages during the simulation, that is, I know that it will increase as rush hour comes, but it should also decrease when rush hour has ended. Otherwise, this will not be a good candidate for a reward function."
   ]
  },
  {
   "cell_type": "code",
   "execution_count": 1,
   "id": "3f48e221",
   "metadata": {},
   "outputs": [],
   "source": [
    "# importing libraries\n",
    "import pandas as pd\n",
    "import numpy as np\n",
    "import os\n",
    "import traci"
   ]
  },
  {
   "cell_type": "code",
   "execution_count": 3,
   "id": "9f825e81",
   "metadata": {},
   "outputs": [
    {
     "data": {
      "text/plain": [
       "(22, 'SUMO 1.23.1')"
      ]
     },
     "execution_count": 3,
     "metadata": {},
     "output_type": "execute_result"
    }
   ],
   "source": [
    "# connecting with the simulation\n",
    "traci.start([\"sumo\", \"-c\", \"data/SingleIntersection.sumocfg\", \"--log\", \"logs/exptLog.yaml\", \"--duration-log.statistics\", \"true\"])"
   ]
  },
  {
   "cell_type": "code",
   "execution_count": 4,
   "id": "8ac729b9",
   "metadata": {},
   "outputs": [],
   "source": [
    "# simulating 10 steps and checking the waiting time for the incoming lanes\n",
    "incomingLanes = ['E1_0', 'E1_1', 'E1_2', 'E3_0', 'E3_1', 'E3_2', '-E2_0', '-E2_1', '-E2_2', '-E4_0', '-E4_1', '-E4_2']"
   ]
  },
  {
   "cell_type": "code",
   "execution_count": 5,
   "id": "cf0556ef",
   "metadata": {},
   "outputs": [
    {
     "name": "stdout",
     "output_type": "stream",
     "text": [
      "Wait time: {'E1_0': 0.0, 'E1_1': 0.0, 'E1_2': 0.0, 'E3_0': 0.0, 'E3_1': 0.0, 'E3_2': 0.0, '-E2_0': 0.0, '-E2_1': 0.0, '-E2_2': 0.0, '-E4_0': 0.0, '-E4_1': 0.0, '-E4_2': 0.0}\n",
      "------------------------------------------------------\n",
      "Wait time: {'E1_0': 0.0, 'E1_1': 0.0, 'E1_2': 0.0, 'E3_0': 0.0, 'E3_1': 0.0, 'E3_2': 0.0, '-E2_0': 0.0, '-E2_1': 0.0, '-E2_2': 0.0, '-E4_0': 0.0, '-E4_1': 0.0, '-E4_2': 0.0}\n",
      "------------------------------------------------------\n",
      "Wait time: {'E1_0': 0.0, 'E1_1': 0.0, 'E1_2': 0.0, 'E3_0': 0.0, 'E3_1': 0.0, 'E3_2': 0.0, '-E2_0': 0.0, '-E2_1': 0.0, '-E2_2': 0.0, '-E4_0': 0.0, '-E4_1': 0.0, '-E4_2': 0.0}\n",
      "------------------------------------------------------\n",
      "Wait time: {'E1_0': 0.0, 'E1_1': 0.0, 'E1_2': 0.0, 'E3_0': 0.0, 'E3_1': 0.0, 'E3_2': 0.0, '-E2_0': 0.0, '-E2_1': 0.0, '-E2_2': 0.0, '-E4_0': 0.0, '-E4_1': 0.0, '-E4_2': 0.0}\n",
      "------------------------------------------------------\n",
      "Wait time: {'E1_0': 0.0, 'E1_1': 0.0, 'E1_2': 0.0, 'E3_0': 0.0, 'E3_1': 0.0, 'E3_2': 0.0, '-E2_0': 0.0, '-E2_1': 0.0, '-E2_2': 0.0, '-E4_0': 0.0, '-E4_1': 0.0, '-E4_2': 0.0}\n",
      "------------------------------------------------------\n",
      "Wait time: {'E1_0': 0.0, 'E1_1': 0.0, 'E1_2': 0.0, 'E3_0': 0.0, 'E3_1': 0.0, 'E3_2': 0.0, '-E2_0': 0.0, '-E2_1': 0.0, '-E2_2': 0.0, '-E4_0': 0.0, '-E4_1': 0.0, '-E4_2': 0.0}\n",
      "------------------------------------------------------\n",
      "Wait time: {'E1_0': 0.0, 'E1_1': 0.0, 'E1_2': 0.0, 'E3_0': 0.0, 'E3_1': 0.0, 'E3_2': 0.0, '-E2_0': 0.0, '-E2_1': 0.0, '-E2_2': 0.0, '-E4_0': 0.0, '-E4_1': 0.0, '-E4_2': 0.0}\n",
      "------------------------------------------------------\n",
      "Wait time: {'E1_0': 0.0, 'E1_1': 0.0, 'E1_2': 0.0, 'E3_0': 0.0, 'E3_1': 0.0, 'E3_2': 0.0, '-E2_0': 0.0, '-E2_1': 0.0, '-E2_2': 0.0, '-E4_0': 0.0, '-E4_1': 0.0, '-E4_2': 0.0}\n",
      "------------------------------------------------------\n",
      "Wait time: {'E1_0': 0.0, 'E1_1': 0.0, 'E1_2': 0.0, 'E3_0': 0.0, 'E3_1': 0.0, 'E3_2': 0.0, '-E2_0': 0.0, '-E2_1': 0.0, '-E2_2': 0.0, '-E4_0': 0.0, '-E4_1': 0.0, '-E4_2': 0.0}\n",
      "------------------------------------------------------\n",
      "Wait time: {'E1_0': 0.0, 'E1_1': 0.0, 'E1_2': 0.0, 'E3_0': 0.0, 'E3_1': 0.0, 'E3_2': 0.0, '-E2_0': 0.0, '-E2_1': 0.0, '-E2_2': 0.0, '-E4_0': 0.0, '-E4_1': 0.0, '-E4_2': 0.0}\n",
      "------------------------------------------------------\n"
     ]
    }
   ],
   "source": [
    "for i in range(10):\n",
    "    # perform a simulation step, and then print the waiting time for each lane\n",
    "    traci.simulationStep()\n",
    "    waitTimes = {l:traci.lane.getWaitingTime(l) for l in incomingLanes}\n",
    "    print(\"Wait time:\", waitTimes)\n",
    "    print('------------------------------------------------------')"
   ]
  },
  {
   "cell_type": "code",
   "execution_count": 7,
   "id": "f140bcee",
   "metadata": {},
   "outputs": [
    {
     "name": "stdout",
     "output_type": "stream",
     "text": [
      "Wait time: {'E1_0': 0.0, 'E1_1': 0.0, 'E1_2': 0.0, 'E3_0': 0.0, 'E3_1': 0.0, 'E3_2': 0.0, '-E2_0': 0.0, '-E2_1': 0.0, '-E2_2': 0.0, '-E4_0': 0.0, '-E4_1': 0.0, '-E4_2': 0.0}\n",
      "------------------------------------------------------\n",
      "Wait time: {'E1_0': 0.0, 'E1_1': 0.0, 'E1_2': 0.0, 'E3_0': 0.0, 'E3_1': 0.0, 'E3_2': 0.0, '-E2_0': 0.0, '-E2_1': 0.0, '-E2_2': 0.0, '-E4_0': 0.0, '-E4_1': 0.0, '-E4_2': 0.0}\n",
      "------------------------------------------------------\n",
      "Wait time: {'E1_0': 0.0, 'E1_1': 0.0, 'E1_2': 0.0, 'E3_0': 0.0, 'E3_1': 0.0, 'E3_2': 0.0, '-E2_0': 0.0, '-E2_1': 0.0, '-E2_2': 0.0, '-E4_0': 0.0, '-E4_1': 0.0, '-E4_2': 0.0}\n",
      "------------------------------------------------------\n",
      "Wait time: {'E1_0': 0.0, 'E1_1': 0.0, 'E1_2': 0.0, 'E3_0': 0.0, 'E3_1': 0.0, 'E3_2': 0.0, '-E2_0': 0.0, '-E2_1': 0.0, '-E2_2': 0.0, '-E4_0': 0.0, '-E4_1': 0.0, '-E4_2': 0.0}\n",
      "------------------------------------------------------\n",
      "Wait time: {'E1_0': 0.0, 'E1_1': 0.0, 'E1_2': 0.0, 'E3_0': 0.0, 'E3_1': 0.0, 'E3_2': 0.0, '-E2_0': 0.0, '-E2_1': 0.0, '-E2_2': 0.0, '-E4_0': 0.0, '-E4_1': 0.0, '-E4_2': 0.0}\n",
      "------------------------------------------------------\n",
      "Wait time: {'E1_0': 0.0, 'E1_1': 0.0, 'E1_2': 0.0, 'E3_0': 0.0, 'E3_1': 0.0, 'E3_2': 0.0, '-E2_0': 0.0, '-E2_1': 0.0, '-E2_2': 0.0, '-E4_0': 0.0, '-E4_1': 0.0, '-E4_2': 0.0}\n",
      "------------------------------------------------------\n",
      "Wait time: {'E1_0': 0.0, 'E1_1': 0.0, 'E1_2': 0.0, 'E3_0': 0.0, 'E3_1': 0.0, 'E3_2': 0.0, '-E2_0': 0.0, '-E2_1': 0.0, '-E2_2': 0.0, '-E4_0': 0.0, '-E4_1': 0.0, '-E4_2': 0.0}\n",
      "------------------------------------------------------\n",
      "Wait time: {'E1_0': 0.0, 'E1_1': 0.0, 'E1_2': 0.0, 'E3_0': 0.0, 'E3_1': 0.0, 'E3_2': 0.0, '-E2_0': 0.0, '-E2_1': 0.0, '-E2_2': 0.0, '-E4_0': 0.0, '-E4_1': 0.0, '-E4_2': 0.0}\n",
      "------------------------------------------------------\n",
      "Wait time: {'E1_0': 0.0, 'E1_1': 0.0, 'E1_2': 0.0, 'E3_0': 0.0, 'E3_1': 0.0, 'E3_2': 0.0, '-E2_0': 0.0, '-E2_1': 0.0, '-E2_2': 0.0, '-E4_0': 0.0, '-E4_1': 0.0, '-E4_2': 0.0}\n",
      "------------------------------------------------------\n",
      "Wait time: {'E1_0': 0.0, 'E1_1': 0.0, 'E1_2': 0.0, 'E3_0': 0.0, 'E3_1': 0.0, 'E3_2': 0.0, '-E2_0': 0.0, '-E2_1': 0.0, '-E2_2': 0.0, '-E4_0': 0.0, '-E4_1': 0.0, '-E4_2': 0.0}\n",
      "------------------------------------------------------\n",
      "Wait time: {'E1_0': 0.0, 'E1_1': 0.0, 'E1_2': 0.0, 'E3_0': 0.0, 'E3_1': 0.0, 'E3_2': 0.0, '-E2_0': 0.0, '-E2_1': 0.0, '-E2_2': 0.0, '-E4_0': 0.0, '-E4_1': 0.0, '-E4_2': 0.0}\n",
      "------------------------------------------------------\n",
      "Wait time: {'E1_0': 0.0, 'E1_1': 0.0, 'E1_2': 0.0, 'E3_0': 0.0, 'E3_1': 0.0, 'E3_2': 0.0, '-E2_0': 0.0, '-E2_1': 0.0, '-E2_2': 0.0, '-E4_0': 0.0, '-E4_1': 0.0, '-E4_2': 0.0}\n",
      "------------------------------------------------------\n",
      "Wait time: {'E1_0': 0.0, 'E1_1': 0.0, 'E1_2': 0.0, 'E3_0': 0.0, 'E3_1': 0.0, 'E3_2': 0.0, '-E2_0': 0.0, '-E2_1': 0.0, '-E2_2': 0.0, '-E4_0': 0.0, '-E4_1': 0.0, '-E4_2': 0.0}\n",
      "------------------------------------------------------\n",
      "Wait time: {'E1_0': 0.0, 'E1_1': 0.0, 'E1_2': 0.0, 'E3_0': 0.0, 'E3_1': 0.0, 'E3_2': 0.0, '-E2_0': 0.0, '-E2_1': 0.0, '-E2_2': 0.0, '-E4_0': 0.0, '-E4_1': 0.0, '-E4_2': 0.0}\n",
      "------------------------------------------------------\n",
      "Wait time: {'E1_0': 0.0, 'E1_1': 0.0, 'E1_2': 0.0, 'E3_0': 0.0, 'E3_1': 0.0, 'E3_2': 0.0, '-E2_0': 0.0, '-E2_1': 0.0, '-E2_2': 0.0, '-E4_0': 0.0, '-E4_1': 0.0, '-E4_2': 0.0}\n",
      "------------------------------------------------------\n",
      "Wait time: {'E1_0': 0.0, 'E1_1': 0.0, 'E1_2': 0.0, 'E3_0': 0.0, 'E3_1': 0.0, 'E3_2': 0.0, '-E2_0': 0.0, '-E2_1': 0.0, '-E2_2': 0.0, '-E4_0': 0.0, '-E4_1': 0.0, '-E4_2': 0.0}\n",
      "------------------------------------------------------\n",
      "Wait time: {'E1_0': 0.0, 'E1_1': 0.0, 'E1_2': 0.0, 'E3_0': 0.0, 'E3_1': 0.0, 'E3_2': 0.0, '-E2_0': 0.0, '-E2_1': 0.0, '-E2_2': 0.0, '-E4_0': 0.0, '-E4_1': 0.0, '-E4_2': 0.0}\n",
      "------------------------------------------------------\n",
      "Wait time: {'E1_0': 0.0, 'E1_1': 0.0, 'E1_2': 0.0, 'E3_0': 0.0, 'E3_1': 0.0, 'E3_2': 0.0, '-E2_0': 0.0, '-E2_1': 0.0, '-E2_2': 0.0, '-E4_0': 0.0, '-E4_1': 0.0, '-E4_2': 0.0}\n",
      "------------------------------------------------------\n",
      "Wait time: {'E1_0': 0.0, 'E1_1': 0.0, 'E1_2': 0.0, 'E3_0': 0.0, 'E3_1': 0.0, 'E3_2': 0.0, '-E2_0': 0.0, '-E2_1': 0.0, '-E2_2': 0.0, '-E4_0': 0.0, '-E4_1': 0.0, '-E4_2': 0.0}\n",
      "------------------------------------------------------\n",
      "Wait time: {'E1_0': 0.0, 'E1_1': 0.0, 'E1_2': 0.0, 'E3_0': 0.0, 'E3_1': 0.0, 'E3_2': 0.0, '-E2_0': 0.0, '-E2_1': 0.0, '-E2_2': 0.0, '-E4_0': 0.0, '-E4_1': 0.0, '-E4_2': 0.0}\n",
      "------------------------------------------------------\n"
     ]
    }
   ],
   "source": [
    "# simulating for another 20 seconds\n",
    "for i in range(20):\n",
    "    # perform a simulation step, and then print the waiting time for each lane\n",
    "    traci.simulationStep()\n",
    "    waitTimes = {l:traci.lane.getWaitingTime(l) for l in incomingLanes}\n",
    "    print(\"Wait time:\", waitTimes)\n",
    "    print('------------------------------------------------------')"
   ]
  },
  {
   "cell_type": "code",
   "execution_count": 8,
   "id": "92dd742f",
   "metadata": {},
   "outputs": [
    {
     "data": {
      "text/plain": [
       "30.0"
      ]
     },
     "execution_count": 8,
     "metadata": {},
     "output_type": "execute_result"
    }
   ],
   "source": [
    "traci.simulation.getTime()"
   ]
  },
  {
   "cell_type": "code",
   "execution_count": 9,
   "id": "d60d3343",
   "metadata": {},
   "outputs": [
    {
     "name": "stdout",
     "output_type": "stream",
     "text": [
      "Wait time: {'E1_0': 0.0, 'E1_1': 0.0, 'E1_2': 0.0, 'E3_0': 0.0, 'E3_1': 0.0, 'E3_2': 0.0, '-E2_0': 0.0, '-E2_1': 0.0, '-E2_2': 0.0, '-E4_0': 0.0, '-E4_1': 0.0, '-E4_2': 0.0}\n",
      "------------------------------------------------------\n",
      "Wait time: {'E1_0': 0.0, 'E1_1': 0.0, 'E1_2': 0.0, 'E3_0': 0.0, 'E3_1': 0.0, 'E3_2': 0.0, '-E2_0': 0.0, '-E2_1': 0.0, '-E2_2': 0.0, '-E4_0': 0.0, '-E4_1': 0.0, '-E4_2': 0.0}\n",
      "------------------------------------------------------\n",
      "Wait time: {'E1_0': 0.0, 'E1_1': 0.0, 'E1_2': 0.0, 'E3_0': 0.0, 'E3_1': 0.0, 'E3_2': 0.0, '-E2_0': 0.0, '-E2_1': 0.0, '-E2_2': 0.0, '-E4_0': 0.0, '-E4_1': 0.0, '-E4_2': 0.0}\n",
      "------------------------------------------------------\n",
      "Wait time: {'E1_0': 0.0, 'E1_1': 0.0, 'E1_2': 0.0, 'E3_0': 0.0, 'E3_1': 0.0, 'E3_2': 0.0, '-E2_0': 0.0, '-E2_1': 0.0, '-E2_2': 1.0, '-E4_0': 0.0, '-E4_1': 0.0, '-E4_2': 0.0}\n",
      "------------------------------------------------------\n",
      "Wait time: {'E1_0': 0.0, 'E1_1': 0.0, 'E1_2': 0.0, 'E3_0': 0.0, 'E3_1': 0.0, 'E3_2': 0.0, '-E2_0': 0.0, '-E2_1': 0.0, '-E2_2': 2.0, '-E4_0': 0.0, '-E4_1': 0.0, '-E4_2': 0.0}\n",
      "------------------------------------------------------\n",
      "Wait time: {'E1_0': 0.0, 'E1_1': 0.0, 'E1_2': 0.0, 'E3_0': 0.0, 'E3_1': 0.0, 'E3_2': 0.0, '-E2_0': 0.0, '-E2_1': 0.0, '-E2_2': 3.0, '-E4_0': 0.0, '-E4_1': 0.0, '-E4_2': 0.0}\n",
      "------------------------------------------------------\n",
      "Wait time: {'E1_0': 0.0, 'E1_1': 0.0, 'E1_2': 0.0, 'E3_0': 0.0, 'E3_1': 0.0, 'E3_2': 0.0, '-E2_0': 0.0, '-E2_1': 0.0, '-E2_2': 4.0, '-E4_0': 0.0, '-E4_1': 0.0, '-E4_2': 0.0}\n",
      "------------------------------------------------------\n",
      "Wait time: {'E1_0': 0.0, 'E1_1': 0.0, 'E1_2': 0.0, 'E3_0': 0.0, 'E3_1': 0.0, 'E3_2': 0.0, '-E2_0': 0.0, '-E2_1': 0.0, '-E2_2': 5.0, '-E4_0': 0.0, '-E4_1': 0.0, '-E4_2': 0.0}\n",
      "------------------------------------------------------\n",
      "Wait time: {'E1_0': 0.0, 'E1_1': 0.0, 'E1_2': 0.0, 'E3_0': 0.0, 'E3_1': 0.0, 'E3_2': 0.0, '-E2_0': 0.0, '-E2_1': 0.0, '-E2_2': 6.0, '-E4_0': 0.0, '-E4_1': 0.0, '-E4_2': 0.0}\n",
      "------------------------------------------------------\n",
      "Wait time: {'E1_0': 0.0, 'E1_1': 0.0, 'E1_2': 0.0, 'E3_0': 0.0, 'E3_1': 0.0, 'E3_2': 0.0, '-E2_0': 0.0, '-E2_1': 0.0, '-E2_2': 7.0, '-E4_0': 0.0, '-E4_1': 0.0, '-E4_2': 0.0}\n",
      "------------------------------------------------------\n",
      "Wait time: {'E1_0': 0.0, 'E1_1': 0.0, 'E1_2': 0.0, 'E3_0': 0.0, 'E3_1': 0.0, 'E3_2': 0.0, '-E2_0': 0.0, '-E2_1': 0.0, '-E2_2': 8.0, '-E4_0': 0.0, '-E4_1': 0.0, '-E4_2': 0.0}\n",
      "------------------------------------------------------\n",
      "Wait time: {'E1_0': 0.0, 'E1_1': 0.0, 'E1_2': 0.0, 'E3_0': 0.0, 'E3_1': 0.0, 'E3_2': 0.0, '-E2_0': 0.0, '-E2_1': 0.0, '-E2_2': 9.0, '-E4_0': 0.0, '-E4_1': 0.0, '-E4_2': 0.0}\n",
      "------------------------------------------------------\n",
      "Wait time: {'E1_0': 0.0, 'E1_1': 0.0, 'E1_2': 0.0, 'E3_0': 0.0, 'E3_1': 1.0, 'E3_2': 0.0, '-E2_0': 0.0, '-E2_1': 0.0, '-E2_2': 10.0, '-E4_0': 0.0, '-E4_1': 0.0, '-E4_2': 0.0}\n",
      "------------------------------------------------------\n",
      "Wait time: {'E1_0': 0.0, 'E1_1': 0.0, 'E1_2': 0.0, 'E3_0': 0.0, 'E3_1': 2.0, 'E3_2': 0.0, '-E2_0': 0.0, '-E2_1': 0.0, '-E2_2': 11.0, '-E4_0': 0.0, '-E4_1': 0.0, '-E4_2': 1.0}\n",
      "------------------------------------------------------\n",
      "Wait time: {'E1_0': 0.0, 'E1_1': 0.0, 'E1_2': 0.0, 'E3_0': 0.0, 'E3_1': 3.0, 'E3_2': 1.0, '-E2_0': 0.0, '-E2_1': 0.0, '-E2_2': 12.0, '-E4_0': 0.0, '-E4_1': 0.0, '-E4_2': 2.0}\n",
      "------------------------------------------------------\n",
      "Wait time: {'E1_0': 0.0, 'E1_1': 0.0, 'E1_2': 0.0, 'E3_0': 0.0, 'E3_1': 4.0, 'E3_2': 2.0, '-E2_0': 0.0, '-E2_1': 0.0, '-E2_2': 13.0, '-E4_0': 0.0, '-E4_1': 0.0, '-E4_2': 3.0}\n",
      "------------------------------------------------------\n",
      "Wait time: {'E1_0': 0.0, 'E1_1': 0.0, 'E1_2': 0.0, 'E3_0': 0.0, 'E3_1': 5.0, 'E3_2': 3.0, '-E2_0': 0.0, '-E2_1': 0.0, '-E2_2': 14.0, '-E4_0': 0.0, '-E4_1': 0.0, '-E4_2': 4.0}\n",
      "------------------------------------------------------\n",
      "Wait time: {'E1_0': 0.0, 'E1_1': 0.0, 'E1_2': 0.0, 'E3_0': 0.0, 'E3_1': 6.0, 'E3_2': 4.0, '-E2_0': 0.0, '-E2_1': 0.0, '-E2_2': 15.0, '-E4_0': 0.0, '-E4_1': 0.0, '-E4_2': 5.0}\n",
      "------------------------------------------------------\n",
      "Wait time: {'E1_0': 0.0, 'E1_1': 0.0, 'E1_2': 0.0, 'E3_0': 0.0, 'E3_1': 7.0, 'E3_2': 5.0, '-E2_0': 0.0, '-E2_1': 0.0, '-E2_2': 16.0, '-E4_0': 0.0, '-E4_1': 0.0, '-E4_2': 6.0}\n",
      "------------------------------------------------------\n",
      "Wait time: {'E1_0': 0.0, 'E1_1': 0.0, 'E1_2': 0.0, 'E3_0': 0.0, 'E3_1': 8.0, 'E3_2': 6.0, '-E2_0': 0.0, '-E2_1': 0.0, '-E2_2': 17.0, '-E4_0': 0.0, '-E4_1': 0.0, '-E4_2': 7.0}\n",
      "------------------------------------------------------\n"
     ]
    }
   ],
   "source": [
    "# simulating for another 20 seconds\n",
    "for i in range(20):\n",
    "    # perform a simulation step, and then print the waiting time for each lane\n",
    "    traci.simulationStep()\n",
    "    waitTimes = {l:traci.lane.getWaitingTime(l) for l in incomingLanes}\n",
    "    print(\"Wait time:\", waitTimes)\n",
    "    print('------------------------------------------------------')"
   ]
  },
  {
   "cell_type": "code",
   "execution_count": 11,
   "id": "ca0495c3",
   "metadata": {},
   "outputs": [
    {
     "data": {
      "text/plain": [
       "50.0"
      ]
     },
     "execution_count": 11,
     "metadata": {},
     "output_type": "execute_result"
    }
   ],
   "source": [
    "traci.simulation.getTime()"
   ]
  },
  {
   "cell_type": "code",
   "execution_count": 12,
   "id": "56685da4",
   "metadata": {},
   "outputs": [
    {
     "name": "stdout",
     "output_type": "stream",
     "text": [
      "Wait time: {'E1_0': 0.0, 'E1_1': 0.0, 'E1_2': 0.0, 'E3_0': 0.0, 'E3_1': 9.0, 'E3_2': 7.0, '-E2_0': 0.0, '-E2_1': 0.0, '-E2_2': 18.0, '-E4_0': 0.0, '-E4_1': 0.0, '-E4_2': 8.0}\n",
      "------------------------------------------------------\n",
      "Wait time: {'E1_0': 0.0, 'E1_1': 0.0, 'E1_2': 0.0, 'E3_0': 0.0, 'E3_1': 10.0, 'E3_2': 8.0, '-E2_0': 0.0, '-E2_1': 0.0, '-E2_2': 19.0, '-E4_0': 0.0, '-E4_1': 0.0, '-E4_2': 9.0}\n",
      "------------------------------------------------------\n",
      "Wait time: {'E1_0': 0.0, 'E1_1': 0.0, 'E1_2': 0.0, 'E3_0': 0.0, 'E3_1': 11.0, 'E3_2': 9.0, '-E2_0': 0.0, '-E2_1': 0.0, '-E2_2': 20.0, '-E4_0': 0.0, '-E4_1': 0.0, '-E4_2': 10.0}\n",
      "------------------------------------------------------\n",
      "Wait time: {'E1_0': 0.0, 'E1_1': 0.0, 'E1_2': 0.0, 'E3_0': 0.0, 'E3_1': 12.0, 'E3_2': 10.0, '-E2_0': 0.0, '-E2_1': 0.0, '-E2_2': 21.0, '-E4_0': 0.0, '-E4_1': 0.0, '-E4_2': 11.0}\n",
      "------------------------------------------------------\n",
      "Wait time: {'E1_0': 0.0, 'E1_1': 0.0, 'E1_2': 0.0, 'E3_0': 0.0, 'E3_1': 13.0, 'E3_2': 11.0, '-E2_0': 0.0, '-E2_1': 0.0, '-E2_2': 22.0, '-E4_0': 0.0, '-E4_1': 0.0, '-E4_2': 12.0}\n",
      "------------------------------------------------------\n",
      "Wait time: {'E1_0': 0.0, 'E1_1': 0.0, 'E1_2': 0.0, 'E3_0': 0.0, 'E3_1': 14.0, 'E3_2': 12.0, '-E2_0': 0.0, '-E2_1': 0.0, '-E2_2': 23.0, '-E4_0': 0.0, '-E4_1': 0.0, '-E4_2': 13.0}\n",
      "------------------------------------------------------\n",
      "Wait time: {'E1_0': 0.0, 'E1_1': 0.0, 'E1_2': 0.0, 'E3_0': 0.0, 'E3_1': 15.0, 'E3_2': 13.0, '-E2_0': 0.0, '-E2_1': 0.0, '-E2_2': 24.0, '-E4_0': 0.0, '-E4_1': 1.0, '-E4_2': 14.0}\n",
      "------------------------------------------------------\n",
      "Wait time: {'E1_0': 0.0, 'E1_1': 0.0, 'E1_2': 0.0, 'E3_0': 0.0, 'E3_1': 16.0, 'E3_2': 14.0, '-E2_0': 0.0, '-E2_1': 0.0, '-E2_2': 25.0, '-E4_0': 0.0, '-E4_1': 2.0, '-E4_2': 15.0}\n",
      "------------------------------------------------------\n",
      "Wait time: {'E1_0': 0.0, 'E1_1': 0.0, 'E1_2': 0.0, 'E3_0': 0.0, 'E3_1': 17.0, 'E3_2': 16.0, '-E2_0': 0.0, '-E2_1': 0.0, '-E2_2': 26.0, '-E4_0': 0.0, '-E4_1': 3.0, '-E4_2': 16.0}\n",
      "------------------------------------------------------\n",
      "Wait time: {'E1_0': 0.0, 'E1_1': 0.0, 'E1_2': 0.0, 'E3_0': 0.0, 'E3_1': 18.0, 'E3_2': 18.0, '-E2_0': 0.0, '-E2_1': 0.0, '-E2_2': 27.0, '-E4_0': 0.0, '-E4_1': 4.0, '-E4_2': 17.0}\n",
      "------------------------------------------------------\n",
      "Wait time: {'E1_0': 0.0, 'E1_1': 0.0, 'E1_2': 0.0, 'E3_0': 0.0, 'E3_1': 20.0, 'E3_2': 20.0, '-E2_0': 0.0, '-E2_1': 0.0, '-E2_2': 28.0, '-E4_0': 0.0, '-E4_1': 5.0, '-E4_2': 18.0}\n",
      "------------------------------------------------------\n",
      "Wait time: {'E1_0': 0.0, 'E1_1': 0.0, 'E1_2': 0.0, 'E3_0': 0.0, 'E3_1': 22.0, 'E3_2': 22.0, '-E2_0': 0.0, '-E2_1': 0.0, '-E2_2': 29.0, '-E4_0': 0.0, '-E4_1': 6.0, '-E4_2': 19.0}\n",
      "------------------------------------------------------\n",
      "Wait time: {'E1_0': 0.0, 'E1_1': 0.0, 'E1_2': 0.0, 'E3_0': 0.0, 'E3_1': 24.0, 'E3_2': 24.0, '-E2_0': 0.0, '-E2_1': 0.0, '-E2_2': 30.0, '-E4_0': 0.0, '-E4_1': 7.0, '-E4_2': 20.0}\n",
      "------------------------------------------------------\n",
      "Wait time: {'E1_0': 0.0, 'E1_1': 0.0, 'E1_2': 0.0, 'E3_0': 0.0, 'E3_1': 26.0, 'E3_2': 26.0, '-E2_0': 0.0, '-E2_1': 0.0, '-E2_2': 31.0, '-E4_0': 0.0, '-E4_1': 8.0, '-E4_2': 21.0}\n",
      "------------------------------------------------------\n",
      "Wait time: {'E1_0': 0.0, 'E1_1': 0.0, 'E1_2': 0.0, 'E3_0': 0.0, 'E3_1': 29.0, 'E3_2': 28.0, '-E2_0': 0.0, '-E2_1': 0.0, '-E2_2': 32.0, '-E4_0': 0.0, '-E4_1': 9.0, '-E4_2': 22.0}\n",
      "------------------------------------------------------\n",
      "Wait time: {'E1_0': 0.0, 'E1_1': 0.0, 'E1_2': 0.0, 'E3_0': 0.0, 'E3_1': 32.0, 'E3_2': 30.0, '-E2_0': 0.0, '-E2_1': 0.0, '-E2_2': 33.0, '-E4_0': 0.0, '-E4_1': 10.0, '-E4_2': 23.0}\n",
      "------------------------------------------------------\n",
      "Wait time: {'E1_0': 0.0, 'E1_1': 0.0, 'E1_2': 0.0, 'E3_0': 0.0, 'E3_1': 35.0, 'E3_2': 32.0, '-E2_0': 0.0, '-E2_1': 0.0, '-E2_2': 34.0, '-E4_0': 0.0, '-E4_1': 11.0, '-E4_2': 24.0}\n",
      "------------------------------------------------------\n",
      "Wait time: {'E1_0': 0.0, 'E1_1': 0.0, 'E1_2': 0.0, 'E3_0': 0.0, 'E3_1': 38.0, 'E3_2': 34.0, '-E2_0': 0.0, '-E2_1': 0.0, '-E2_2': 35.0, '-E4_0': 0.0, '-E4_1': 12.0, '-E4_2': 25.0}\n",
      "------------------------------------------------------\n",
      "Wait time: {'E1_0': 0.0, 'E1_1': 0.0, 'E1_2': 0.0, 'E3_0': 0.0, 'E3_1': 41.0, 'E3_2': 36.0, '-E2_0': 0.0, '-E2_1': 0.0, '-E2_2': 36.0, '-E4_0': 0.0, '-E4_1': 13.0, '-E4_2': 26.0}\n",
      "------------------------------------------------------\n",
      "Wait time: {'E1_0': 0.0, 'E1_1': 0.0, 'E1_2': 0.0, 'E3_0': 0.0, 'E3_1': 44.0, 'E3_2': 38.0, '-E2_0': 0.0, '-E2_1': 0.0, '-E2_2': 37.0, '-E4_0': 0.0, '-E4_1': 14.0, '-E4_2': 27.0}\n",
      "------------------------------------------------------\n"
     ]
    }
   ],
   "source": [
    "# simulating for another 20 seconds\n",
    "for i in range(20):\n",
    "    # perform a simulation step, and then print the waiting time for each lane\n",
    "    traci.simulationStep()\n",
    "    waitTimes = {l:traci.lane.getWaitingTime(l) for l in incomingLanes}\n",
    "    print(\"Wait time:\", waitTimes)\n",
    "    print('------------------------------------------------------')"
   ]
  },
  {
   "cell_type": "code",
   "execution_count": 13,
   "id": "e1c38731",
   "metadata": {},
   "outputs": [
    {
     "data": {
      "text/plain": [
       "70.0"
      ]
     },
     "execution_count": 13,
     "metadata": {},
     "output_type": "execute_result"
    }
   ],
   "source": [
    "traci.simulation.getTime()"
   ]
  },
  {
   "cell_type": "code",
   "execution_count": 14,
   "id": "a782913f",
   "metadata": {},
   "outputs": [
    {
     "name": "stdout",
     "output_type": "stream",
     "text": [
      "Wait time: {'E1_0': 0.0, 'E1_1': 0.0, 'E1_2': 0.0, 'E3_0': 0.0, 'E3_1': 47.0, 'E3_2': 40.0, '-E2_0': 0.0, '-E2_1': 0.0, '-E2_2': 38.0, '-E4_0': 0.0, '-E4_1': 15.0, '-E4_2': 28.0}\n",
      "------------------------------------------------------\n",
      "Wait time: {'E1_0': 0.0, 'E1_1': 0.0, 'E1_2': 0.0, 'E3_0': 0.0, 'E3_1': 50.0, 'E3_2': 42.0, '-E2_0': 0.0, '-E2_1': 0.0, '-E2_2': 39.0, '-E4_0': 0.0, '-E4_1': 16.0, '-E4_2': 29.0}\n",
      "------------------------------------------------------\n",
      "Wait time: {'E1_0': 0.0, 'E1_1': 0.0, 'E1_2': 0.0, 'E3_0': 0.0, 'E3_1': 53.0, 'E3_2': 44.0, '-E2_0': 0.0, '-E2_1': 0.0, '-E2_2': 40.0, '-E4_0': 0.0, '-E4_1': 17.0, '-E4_2': 30.0}\n",
      "------------------------------------------------------\n",
      "Wait time: {'E1_0': 0.0, 'E1_1': 0.0, 'E1_2': 0.0, 'E3_0': 0.0, 'E3_1': 56.0, 'E3_2': 46.0, '-E2_0': 0.0, '-E2_1': 0.0, '-E2_2': 41.0, '-E4_0': 0.0, '-E4_1': 18.0, '-E4_2': 31.0}\n",
      "------------------------------------------------------\n",
      "Wait time: {'E1_0': 0.0, 'E1_1': 0.0, 'E1_2': 0.0, 'E3_0': 0.0, 'E3_1': 59.0, 'E3_2': 48.0, '-E2_0': 0.0, '-E2_1': 0.0, '-E2_2': 42.0, '-E4_0': 0.0, '-E4_1': 19.0, '-E4_2': 32.0}\n",
      "------------------------------------------------------\n",
      "Wait time: {'E1_0': 0.0, 'E1_1': 0.0, 'E1_2': 0.0, 'E3_0': 0.0, 'E3_1': 62.0, 'E3_2': 50.0, '-E2_0': 0.0, '-E2_1': 0.0, '-E2_2': 43.0, '-E4_0': 0.0, '-E4_1': 20.0, '-E4_2': 33.0}\n",
      "------------------------------------------------------\n",
      "Wait time: {'E1_0': 0.0, 'E1_1': 0.0, 'E1_2': 0.0, 'E3_0': 0.0, 'E3_1': 65.0, 'E3_2': 52.0, '-E2_0': 0.0, '-E2_1': 0.0, '-E2_2': 44.0, '-E4_0': 0.0, '-E4_1': 21.0, '-E4_2': 34.0}\n",
      "------------------------------------------------------\n",
      "Wait time: {'E1_0': 0.0, 'E1_1': 0.0, 'E1_2': 0.0, 'E3_0': 0.0, 'E3_1': 68.0, 'E3_2': 54.0, '-E2_0': 0.0, '-E2_1': 0.0, '-E2_2': 45.0, '-E4_0': 0.0, '-E4_1': 22.0, '-E4_2': 35.0}\n",
      "------------------------------------------------------\n",
      "Wait time: {'E1_0': 0.0, 'E1_1': 0.0, 'E1_2': 0.0, 'E3_0': 0.0, 'E3_1': 71.0, 'E3_2': 56.0, '-E2_0': 0.0, '-E2_1': 0.0, '-E2_2': 46.0, '-E4_0': 0.0, '-E4_1': 23.0, '-E4_2': 36.0}\n",
      "------------------------------------------------------\n",
      "Wait time: {'E1_0': 0.0, 'E1_1': 0.0, 'E1_2': 0.0, 'E3_0': 0.0, 'E3_1': 74.0, 'E3_2': 58.0, '-E2_0': 0.0, '-E2_1': 0.0, '-E2_2': 47.0, '-E4_0': 0.0, '-E4_1': 24.0, '-E4_2': 37.0}\n",
      "------------------------------------------------------\n",
      "Wait time: {'E1_0': 0.0, 'E1_1': 0.0, 'E1_2': 0.0, 'E3_0': 0.0, 'E3_1': 77.0, 'E3_2': 60.0, '-E2_0': 0.0, '-E2_1': 0.0, '-E2_2': 48.0, '-E4_0': 0.0, '-E4_1': 25.0, '-E4_2': 38.0}\n",
      "------------------------------------------------------\n",
      "Wait time: {'E1_0': 0.0, 'E1_1': 0.0, 'E1_2': 0.0, 'E3_0': 0.0, 'E3_1': 80.0, 'E3_2': 62.0, '-E2_0': 0.0, '-E2_1': 0.0, '-E2_2': 49.0, '-E4_0': 0.0, '-E4_1': 26.0, '-E4_2': 39.0}\n",
      "------------------------------------------------------\n",
      "Wait time: {'E1_0': 0.0, 'E1_1': 0.0, 'E1_2': 0.0, 'E3_0': 0.0, 'E3_1': 83.0, 'E3_2': 64.0, '-E2_0': 0.0, '-E2_1': 0.0, '-E2_2': 50.0, '-E4_0': 0.0, '-E4_1': 27.0, '-E4_2': 40.0}\n",
      "------------------------------------------------------\n",
      "Wait time: {'E1_0': 0.0, 'E1_1': 0.0, 'E1_2': 0.0, 'E3_0': 0.0, 'E3_1': 86.0, 'E3_2': 66.0, '-E2_0': 0.0, '-E2_1': 0.0, '-E2_2': 51.0, '-E4_0': 0.0, '-E4_1': 28.0, '-E4_2': 41.0}\n",
      "------------------------------------------------------\n",
      "Wait time: {'E1_0': 0.0, 'E1_1': 0.0, 'E1_2': 0.0, 'E3_0': 0.0, 'E3_1': 89.0, 'E3_2': 68.0, '-E2_0': 0.0, '-E2_1': 0.0, '-E2_2': 52.0, '-E4_0': 0.0, '-E4_1': 29.0, '-E4_2': 42.0}\n",
      "------------------------------------------------------\n",
      "Wait time: {'E1_0': 0.0, 'E1_1': 0.0, 'E1_2': 0.0, 'E3_0': 0.0, 'E3_1': 92.0, 'E3_2': 70.0, '-E2_0': 0.0, '-E2_1': 0.0, '-E2_2': 53.0, '-E4_0': 0.0, '-E4_1': 30.0, '-E4_2': 43.0}\n",
      "------------------------------------------------------\n",
      "Wait time: {'E1_0': 0.0, 'E1_1': 0.0, 'E1_2': 0.0, 'E3_0': 0.0, 'E3_1': 95.0, 'E3_2': 73.0, '-E2_0': 0.0, '-E2_1': 1.0, '-E2_2': 54.0, '-E4_0': 0.0, '-E4_1': 31.0, '-E4_2': 44.0}\n",
      "------------------------------------------------------\n",
      "Wait time: {'E1_0': 0.0, 'E1_1': 0.0, 'E1_2': 0.0, 'E3_0': 0.0, 'E3_1': 98.0, 'E3_2': 76.0, '-E2_0': 0.0, '-E2_1': 2.0, '-E2_2': 55.0, '-E4_0': 0.0, '-E4_1': 32.0, '-E4_2': 45.0}\n",
      "------------------------------------------------------\n",
      "Wait time: {'E1_0': 0.0, 'E1_1': 0.0, 'E1_2': 0.0, 'E3_0': 0.0, 'E3_1': 101.0, 'E3_2': 79.0, '-E2_0': 0.0, '-E2_1': 3.0, '-E2_2': 56.0, '-E4_0': 0.0, '-E4_1': 33.0, '-E4_2': 46.0}\n",
      "------------------------------------------------------\n",
      "Wait time: {'E1_0': 0.0, 'E1_1': 0.0, 'E1_2': 0.0, 'E3_0': 0.0, 'E3_1': 104.0, 'E3_2': 82.0, '-E2_0': 0.0, '-E2_1': 4.0, '-E2_2': 57.0, '-E4_0': 0.0, '-E4_1': 34.0, '-E4_2': 47.0}\n",
      "------------------------------------------------------\n"
     ]
    }
   ],
   "source": [
    "# simulating for another 20 seconds\n",
    "for i in range(20):\n",
    "    # perform a simulation step, and then print the waiting time for each lane\n",
    "    traci.simulationStep()\n",
    "    waitTimes = {l:traci.lane.getWaitingTime(l) for l in incomingLanes}\n",
    "    print(\"Wait time:\", waitTimes)\n",
    "    print('------------------------------------------------------')"
   ]
  },
  {
   "cell_type": "code",
   "execution_count": 15,
   "id": "ede5ba9d",
   "metadata": {},
   "outputs": [
    {
     "data": {
      "text/plain": [
       "90.0"
      ]
     },
     "execution_count": 15,
     "metadata": {},
     "output_type": "execute_result"
    }
   ],
   "source": [
    "traci.simulation.getTime()"
   ]
  },
  {
   "cell_type": "code",
   "execution_count": 16,
   "id": "555ac2b3",
   "metadata": {},
   "outputs": [
    {
     "name": "stdout",
     "output_type": "stream",
     "text": [
      "Wait time: {'E1_0': 0.0, 'E1_1': 0.0, 'E1_2': 0.0, 'E3_0': 0.0, 'E3_1': 107.0, 'E3_2': 85.0, '-E2_0': 0.0, '-E2_1': 0.0, '-E2_2': 0.0, '-E4_0': 0.0, '-E4_1': 35.0, '-E4_2': 48.0}\n",
      "------------------------------------------------------\n",
      "Wait time: {'E1_0': 0.0, 'E1_1': 0.0, 'E1_2': 0.0, 'E3_0': 0.0, 'E3_1': 110.0, 'E3_2': 88.0, '-E2_0': 0.0, '-E2_1': 0.0, '-E2_2': 0.0, '-E4_0': 0.0, '-E4_1': 36.0, '-E4_2': 49.0}\n",
      "------------------------------------------------------\n",
      "Wait time: {'E1_0': 0.0, 'E1_1': 0.0, 'E1_2': 0.0, 'E3_0': 0.0, 'E3_1': 113.0, 'E3_2': 91.0, '-E2_0': 0.0, '-E2_1': 0.0, '-E2_2': 0.0, '-E4_0': 0.0, '-E4_1': 37.0, '-E4_2': 50.0}\n",
      "------------------------------------------------------\n",
      "Wait time: {'E1_0': 0.0, 'E1_1': 0.0, 'E1_2': 0.0, 'E3_0': 0.0, 'E3_1': 116.0, 'E3_2': 94.0, '-E2_0': 0.0, '-E2_1': 0.0, '-E2_2': 0.0, '-E4_0': 0.0, '-E4_1': 38.0, '-E4_2': 51.0}\n",
      "------------------------------------------------------\n",
      "Wait time: {'E1_0': 0.0, 'E1_1': 0.0, 'E1_2': 0.0, 'E3_0': 0.0, 'E3_1': 119.0, 'E3_2': 97.0, '-E2_0': 0.0, '-E2_1': 0.0, '-E2_2': 0.0, '-E4_0': 0.0, '-E4_1': 39.0, '-E4_2': 52.0}\n",
      "------------------------------------------------------\n"
     ]
    }
   ],
   "source": [
    "# simulating 5 more times\n",
    "for i in range(5):\n",
    "    # perform a simulation step, and then print the waiting time for each lane\n",
    "    traci.simulationStep()\n",
    "    waitTimes = {l:traci.lane.getWaitingTime(l) for l in incomingLanes}\n",
    "    print(\"Wait time:\", waitTimes)\n",
    "    print('------------------------------------------------------')"
   ]
  },
  {
   "cell_type": "markdown",
   "id": "3c251f7d",
   "metadata": {},
   "source": [
    "Okay so a few things to note after looking at the waiting times for different lanes:\n",
    "1. The waiting time increases by 1 second for every one second that a vehicle is standing in the lane waiting.\n",
    "2. If there are more than 1 vehicles waiting in a lane, the waiting time for each of them is considered. For example, if there are 3 vehicles that just started waiting in this step, after I step ahead one more time, the waiting time will increase by 3, as it counts 1 second for each car.\n",
    "3. Once the vehicles start moving, it seems that the waittime gets reset to 0 for them. For example, if there are not many cars that are waiting, and all of them start moving, the waiting time for that lane becomes 0.\n",
    "\n",
    "As for 3, now I need to check if it will be the case for when not all cars can move as well. That is because, I fear that if it becomes 0, as soon as a few vehicles start moving, that might give the model a wrong idea."
   ]
  },
  {
   "cell_type": "code",
   "execution_count": 17,
   "id": "f5b5cec1",
   "metadata": {},
   "outputs": [
    {
     "data": {
      "text/plain": [
       "95.0"
      ]
     },
     "execution_count": 17,
     "metadata": {},
     "output_type": "execute_result"
    }
   ],
   "source": [
    "# going a liitle in the rush hour period, and then checking the waiting times\n",
    "traci.simulation.getTime()"
   ]
  },
  {
   "cell_type": "code",
   "execution_count": 18,
   "id": "c79093ec",
   "metadata": {},
   "outputs": [],
   "source": [
    "for i in range(815):\n",
    "    traci.simulationStep()"
   ]
  },
  {
   "cell_type": "code",
   "execution_count": 19,
   "id": "0fdb3c9f",
   "metadata": {},
   "outputs": [
    {
     "data": {
      "text/plain": [
       "910.0"
      ]
     },
     "execution_count": 19,
     "metadata": {},
     "output_type": "execute_result"
    }
   ],
   "source": [
    "traci.simulation.getTime()"
   ]
  },
  {
   "cell_type": "code",
   "execution_count": 25,
   "id": "4a4b280c",
   "metadata": {},
   "outputs": [
    {
     "name": "stdout",
     "output_type": "stream",
     "text": [
      "{'E1_0': 0.0, 'E1_1': 865.0, 'E1_2': 528.0, 'E3_0': 0.0, 'E3_1': 3633.0, 'E3_2': 740.0, '-E2_0': 0.0, '-E2_1': 0.0, '-E2_2': 0.0, '-E4_0': 0.0, '-E4_1': 1266.0, '-E4_2': 1653.0}\n"
     ]
    }
   ],
   "source": [
    "# for i in range(80):\n",
    "#     traci.simulationStep()\n",
    "# printing the watitime\n",
    "print({l:traci.lane.getWaitingTime(l) for l in incomingLanes})"
   ]
  },
  {
   "cell_type": "code",
   "execution_count": 26,
   "id": "3cc412fc",
   "metadata": {},
   "outputs": [
    {
     "data": {
      "text/plain": [
       "990.0"
      ]
     },
     "execution_count": 26,
     "metadata": {},
     "output_type": "execute_result"
    }
   ],
   "source": [
    "traci.simulation.getTime()"
   ]
  },
  {
   "cell_type": "code",
   "execution_count": 27,
   "id": "067d52fc",
   "metadata": {},
   "outputs": [
    {
     "name": "stdout",
     "output_type": "stream",
     "text": [
      "{'E1_0': 0.0, 'E1_1': 891.0, 'E1_2': 545.0, 'E3_0': 0.0, 'E3_1': 3659.0, 'E3_2': 749.0, '-E2_0': 0.0, '-E2_1': 0.0, '-E2_2': 0.0, '-E4_0': 0.0, '-E4_1': 1055.0, '-E4_2': 1479.0}\n"
     ]
    }
   ],
   "source": [
    "# simulating one more step and checking the waittimes\n",
    "traci.simulationStep()\n",
    "print({l:traci.lane.getWaitingTime(l) for l in incomingLanes})"
   ]
  },
  {
   "cell_type": "markdown",
   "id": "6d557a07",
   "metadata": {},
   "source": [
    "So confirmation for #3, the waittime for only those vehicles are removed that have started moving, in the back if there are any vehicles that are stopped, their wait time would still be considered, meaning that the wait time for entire lane isnt set to 0 as the lane gets a green light."
   ]
  },
  {
   "cell_type": "code",
   "execution_count": 28,
   "id": "b2be8aad",
   "metadata": {},
   "outputs": [
    {
     "name": "stdout",
     "output_type": "stream",
     "text": [
      "{'E1_0': 0.0, 'E1_1': 973.0, 'E1_2': 598.0, 'E3_0': 0.0, 'E3_1': 3737.0, 'E3_2': 776.0, '-E2_0': 0.0, '-E2_1': 0.0, '-E2_2': 0.0, '-E4_0': 0.0, '-E4_1': 463.0, '-E4_2': 989.0}\n"
     ]
    }
   ],
   "source": [
    "# confirming it by doing, say 3 more steps\n",
    "traci.simulationStep()\n",
    "traci.simulationStep()\n",
    "traci.simulationStep()\n",
    "print({l:traci.lane.getWaitingTime(l) for l in incomingLanes})"
   ]
  },
  {
   "cell_type": "markdown",
   "id": "505e45ef",
   "metadata": {},
   "source": [
    "### Creating a class with reward function being the cumulative wait time"
   ]
  },
  {
   "cell_type": "code",
   "execution_count": 15,
   "id": "fbca3709",
   "metadata": {},
   "outputs": [],
   "source": [
    "class SUMOEnvironment:\n",
    "    '''\n",
    "        This class is the environment implemented using SUMO and TRACI for a single intersection.\n",
    "    '''\n",
    "    def __init__(self, sumoCfgPath, sumoMode='sumo', maxTime=3600.0, enableLogging=True, logPath='logs/RLLog.txt'):\n",
    "        self.sumoMode = sumoMode\n",
    "        self.sumoCfgPath = sumoCfgPath # these two are made into class variables because they will also be used in the reset function\n",
    "        self.maxTime = maxTime\n",
    "        self.currTime = 0.0\n",
    "        self.directions = ( # movement directions for calculating the reward function\n",
    "            ('E1_2', '-E3_2'), # left\n",
    "            ('E1_1', 'E2_1'), # straight\n",
    "            ('E1_0', 'E4_0'), # right\n",
    "\n",
    "            ('-E4_2', '-E1_2'), # left\n",
    "            ('-E4_1', '-E3_1'), # straight\n",
    "            ('-E4_0', 'E2_0'), # right\n",
    "\n",
    "            ('-E2_2', 'E4_2'), # left\n",
    "            ('-E2_1', '-E1_1'), # straight\n",
    "            ('-E2_0', '-E3_0'), # right\n",
    "\n",
    "            ('E3_2', 'E2_2'), # left\n",
    "            ('E3_1', 'E4_1'), # straight\n",
    "            ('E3_0', '-E1_0') # right\n",
    "        )\n",
    "        self.incoming = [t[0] for t in self.directions]\n",
    "        self.capacity = 40\n",
    "\n",
    "        # starting the simulation\n",
    "        if enableLogging:\n",
    "            traci.start([sumoMode, '-c', sumoCfgPath, \"--log\", logPath, \"--duration-log.statistics\", \"true\"])\n",
    "        else:\n",
    "            traci.start([sumoMode, '-c', sumoCfgPath])\n",
    "\n",
    "    def _getState(self, intersectionId='Inter'):\n",
    "        '''\n",
    "            This function returns the state at the current time step.\n",
    "        '''\n",
    "        stArray = []\n",
    "        for l in self.incoming:\n",
    "            # getting the number of waiting vehicles in the lane\n",
    "            vc = traci.lane.getLastStepHaltingNumber(l)\n",
    "            stArray.append(vc)\n",
    "\n",
    "        # at the end, appending the current state of the intersection\n",
    "        cs = traci.trafficlight.getPhase(intersectionId)\n",
    "        # ohe the phase\n",
    "        csOhe = [0]*4\n",
    "        csOhe[cs] = 1\n",
    "        stArray.extend(csOhe)\n",
    "        return stArray\n",
    "\n",
    "    def _waitTimeReward(self):\n",
    "        '''\n",
    "            This function defines the reward function based on the waiting time of vehicles in the incoming lanes.\n",
    "            The reward is defined as summ_incomingLanes (-1 * waiitTime(lane)).\n",
    "        '''\n",
    "        r = 0\n",
    "        for l in self.incoming:\n",
    "            r_i = -1 * traci.lane.getWaitingTime(l)\n",
    "            r += r_i\n",
    "        return r\n",
    "    \n",
    "    def _vicCountReward(self):\n",
    "        r = 0\n",
    "        # looping through the directions and calculating individual rewards\n",
    "        for d in self.directions:\n",
    "            # waiting in the incoming lane\n",
    "            vIn = traci.lane.getLastStepHaltingNumber(d[0])\n",
    "            vOut = traci.lane.getLastStepHaltingNumber(d[1])\n",
    "            r_i = -1 * vIn * (1 - (vOut/self.capacity))\n",
    "            r += r_i\n",
    "        return r\n",
    "\n",
    "    def _getReward(self, rewardType='waittime'):\n",
    "        '''\n",
    "            This function returns the reward as of the current state of the intersection.\n",
    "        '''\n",
    "        if rewardType=='waittime':\n",
    "            r = self._waitTimeReward()\n",
    "            return r\n",
    "        elif rewardType=='viccounts':\n",
    "            r = self._vicCountReward()\n",
    "            return r\n",
    "        else:\n",
    "            raise ValueError(\"Please provide the correct reward function type! Accepted values [CASE SENSITIVE]: waiittime, viccounts.\")\n",
    "\n",
    "    def _step(self, t=10):\n",
    "        '''\n",
    "            This function moves the simulation t timesteps ahead. And if the total number of steps reaches the max allowed steps, it stop and returns if the iteration is done.\n",
    "        '''\n",
    "        finished = False\n",
    "        for i in range(t):\n",
    "            if self.currTime==self.maxTime:\n",
    "                finished = True\n",
    "                break\n",
    "            # if not, the continue\n",
    "            self.currTime  = self.currTime + 1.0\n",
    "            traci.simulationStep()\n",
    "        return finished\n",
    "\n",
    "    def takeAction(self, action, intersectionId='Inter', t=10):\n",
    "        '''\n",
    "            This function performs the given action, steps the environment ahead for next t seconds/steps, and then returns the next state, reward and whether the simulation has finished or not.\n",
    "        '''\n",
    "        # take action: set the tl phase to the action value\n",
    "        traci.trafficlight.setPhase(intersectionId, action)\n",
    "        # simulate next t time steps and get the next state\n",
    "        finished = self._step(t)\n",
    "        # get the next state\n",
    "        next_state = self._getState()\n",
    "        # get the reward\n",
    "        reward = self._getReward()\n",
    "\n",
    "        return next_state, reward, finished\n",
    "\n",
    "    def reset(self):\n",
    "        '''\n",
    "            This function resets the environment to the start and returns the starting state.\n",
    "        '''\n",
    "        # reseting the sumo engine\n",
    "        traci.load([\"-c\", self.sumoCfgPath])\n",
    "        self.currTime = 0.0\n",
    "        return self._getState()\n",
    "\n",
    "    def close(self):\n",
    "        '''\n",
    "            This function closes the connection of traci with the sumo environment.\n",
    "            NOTE: After calling this function, you will need to reinitialize the object, as now the connection to SUMO has been closed for this. NEED TO FIND A BETTER WAY TO DO THIS.\n",
    "        '''\n",
    "        traci.close()"
   ]
  },
  {
   "cell_type": "markdown",
   "id": "fad37a5c",
   "metadata": {},
   "source": [
    "Okay so I have one concern here. Which is, that the rewards might explode, because wait time can get to 1000s of seconds, it might mean that during rush hours, the reward can become very small, around the order of -10-20k. Im not sure if it will create problems in training of the model. Wonder if theres any such thing as exploding gradients for reward functions in RL.<br>\n",
    "Apparantly, very large reward values could affect training in a negative manner. I need to think of a good way to scale it if thats the case. But before that, Id like to train it using this and see how it performs."
   ]
  },
  {
   "cell_type": "code",
   "execution_count": 17,
   "id": "8194ae2e",
   "metadata": {},
   "outputs": [],
   "source": [
    "# creating an env\n",
    "env = SUMOEnvironment('data/SingleIntersection.sumocfg', logPath='logs/exptLog.yaml')\n",
    "# env.close()"
   ]
  },
  {
   "cell_type": "code",
   "execution_count": 18,
   "id": "e7c93ab2",
   "metadata": {},
   "outputs": [
    {
     "data": {
      "text/plain": [
       "[0, 0, 0, 0, 0, 0, 0, 0, 0, 0, 0, 0, 1, 0, 0, 0]"
      ]
     },
     "execution_count": 18,
     "metadata": {},
     "output_type": "execute_result"
    }
   ],
   "source": [
    "env._getState()"
   ]
  },
  {
   "cell_type": "code",
   "execution_count": 11,
   "id": "770102cf",
   "metadata": {},
   "outputs": [
    {
     "data": {
      "text/plain": [
       "False"
      ]
     },
     "execution_count": 11,
     "metadata": {},
     "output_type": "execute_result"
    }
   ],
   "source": [
    "# stepping 60 times\n",
    "env._step(60)"
   ]
  },
  {
   "cell_type": "code",
   "execution_count": 12,
   "id": "24dd8dca",
   "metadata": {},
   "outputs": [
    {
     "data": {
      "text/plain": [
       "-84.0"
      ]
     },
     "execution_count": 12,
     "metadata": {},
     "output_type": "execute_result"
    }
   ],
   "source": [
    "# getting the reward\n",
    "env._getReward()"
   ]
  },
  {
   "cell_type": "code",
   "execution_count": 14,
   "id": "0966de4b",
   "metadata": {},
   "outputs": [
    {
     "data": {
      "text/plain": [
       "84"
      ]
     },
     "execution_count": 14,
     "metadata": {},
     "output_type": "execute_result"
    }
   ],
   "source": [
    "# for reference\n",
    "# Wait time: {'E1_0': 0.0, 'E1_1': 0.0, 'E1_2': 0.0, 'E3_0': 0.0, 'E3_1': 18.0, 'E3_2': 18.0, '-E2_0': 0.0, '-E2_1': 0.0, '-E2_2': 27.0, '-E4_0': 0.0, '-E4_1': 4.0, '-E4_2': 17.0}\n",
    "18+18+27+17+4"
   ]
  }
 ],
 "metadata": {
  "kernelspec": {
   "display_name": "sumo",
   "language": "python",
   "name": "python3"
  },
  "language_info": {
   "codemirror_mode": {
    "name": "ipython",
    "version": 3
   },
   "file_extension": ".py",
   "mimetype": "text/x-python",
   "name": "python",
   "nbconvert_exporter": "python",
   "pygments_lexer": "ipython3",
   "version": "3.9.16"
  }
 },
 "nbformat": 4,
 "nbformat_minor": 5
}
