{
 "cells": [
  {
   "cell_type": "code",
   "execution_count": 2,
   "id": "aae834e5",
   "metadata": {},
   "outputs": [],
   "source": [
    "n = 14"
   ]
  },
  {
   "cell_type": "code",
   "execution_count": 3,
   "id": "bd77c9d2",
   "metadata": {},
   "outputs": [
    {
     "data": {
      "text/plain": [
       "[[3, 4], [5, 5], [2, 2], [2, 5], [6, 4], [4, 1], [1, 3], [4, 3]]"
      ]
     },
     "execution_count": 3,
     "metadata": {},
     "output_type": "execute_result"
    }
   ],
   "source": [
    "coords = [[3, 4],\n",
    "\n",
    "[5, 5],\n",
    "\n",
    "[2, 2],\n",
    "\n",
    "[2, 5],\n",
    "\n",
    "[6, 4],\n",
    "\n",
    "[4, 1],\n",
    "\n",
    "[1, 3],\n",
    "\n",
    "[4, 3]]\n",
    "coords"
   ]
  },
  {
   "cell_type": "code",
   "execution_count": 4,
   "id": "581c2d7d",
   "metadata": {},
   "outputs": [
    {
     "data": {
      "text/plain": [
       "(1, 6)"
      ]
     },
     "execution_count": 4,
     "metadata": {},
     "output_type": "execute_result"
    }
   ],
   "source": [
    "minX = min([i[0] for i in coords])\n",
    "maxX = max([i[0] for i in coords])\n",
    "minX, maxX"
   ]
  },
  {
   "cell_type": "code",
   "execution_count": 5,
   "id": "f0e73583",
   "metadata": {},
   "outputs": [
    {
     "data": {
      "text/plain": [
       "1"
      ]
     },
     "execution_count": 5,
     "metadata": {},
     "output_type": "execute_result"
    }
   ],
   "source": [
    "minY = min([i[1] for i in coords])\n",
    "minY"
   ]
  },
  {
   "cell_type": "code",
   "execution_count": null,
   "id": "cbad301c",
   "metadata": {},
   "outputs": [],
   "source": [
    "bowlCoords = "
   ]
  }
 ],
 "metadata": {
  "kernelspec": {
   "display_name": "sumo",
   "language": "python",
   "name": "python3"
  },
  "language_info": {
   "codemirror_mode": {
    "name": "ipython",
    "version": 3
   },
   "file_extension": ".py",
   "mimetype": "text/x-python",
   "name": "python",
   "nbconvert_exporter": "python",
   "pygments_lexer": "ipython3",
   "version": "3.9.16"
  }
 },
 "nbformat": 4,
 "nbformat_minor": 5
}
